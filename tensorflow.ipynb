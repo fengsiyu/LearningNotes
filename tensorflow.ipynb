{
 "cells": [
  {
   "cell_type": "markdown",
   "metadata": {},
   "source": [
    "# 学习Tensorflow\n"
   ]
  },
  {
   "cell_type": "markdown",
   "metadata": {},
   "source": [
    "## 1. tf.Variable[来自Tensorflow Programmer Guide]\n",
    "当你要训练一个模型时，你用variables来保持（hold）并更新模型参数。Variables是in-memory（内存？）中包含张量的缓存。它们必须被显式地初始化，训练结束后可以被存储到磁盘中。\n",
    "### 1. 1 创建\n",
    "当你创建一个Variable时，你将一个tensor作为初始值传递给Variable()的constructor。\n",
    "记住，所有创建的操作都会要求你制定tensor的形状（shape），这个shape会自动变成variable的shape"
   ]
  },
  {
   "cell_type": "code",
   "execution_count": null,
   "metadata": {},
   "outputs": [],
   "source": [
    "import tensorflow as tf\n",
    "# Create two variables\n",
    "weights = tf.Variable(tf.random_normal([784,200],stddev=0.35),name=\"weights\")\n",
    "biases = tf.Variable(tf.zeros([200]),name=\"biases\")\n",
    "print weights"
   ]
  },
  {
   "cell_type": "markdown",
   "metadata": {},
   "source": [
    "tf.Variable()添加几个操作到图(graph)中:\n",
    "- 一个 variable 来保存变量值\n",
    "- 一个初始化操作，将变量设置为初始值\n",
    "- 添加初始值的操作，例如上面的zeros()操作也被添加到图中\n",
    "\n",
    "返回值是tf.Variable类"
   ]
  },
  {
   "cell_type": "markdown",
   "metadata": {},
   "source": [
    "### 1.2 初始化\n",
    "在你的模型可以被运行之前，variable的initializer必须要先执行。最简单的办法是添加一个操纵，让所有的variable initialer都跑起来。"
   ]
  },
  {
   "cell_type": "code",
   "execution_count": null,
   "metadata": {},
   "outputs": [],
   "source": [
    "# add an op to initialize the variables\n",
    "init_op = tf.global_variables_initializer()\n",
    "\n",
    "# Later, when launching the model\n",
    "with tf.Session() as sess:\n",
    "    #Run the init op\n",
    "    sess.run(init_op)\n",
    "    \n",
    "    #Use the model"
   ]
  },
  {
   "cell_type": "markdown",
   "metadata": {},
   "source": [
    "#### 1.2.1 从另一个Variable初始化"
   ]
  },
  {
   "cell_type": "code",
   "execution_count": null,
   "metadata": {},
   "outputs": [],
   "source": [
    "# create another variable with the same value as 'weights'\n",
    "w2 = tf.Variable(weights.initialized_value(), name='w2')"
   ]
  },
  {
   "cell_type": "markdown",
   "metadata": {},
   "source": [
    "## 1.2 Saving and Restoring\n",
    "最简单save and restore一个模型是适用 `tf.train.Saver`.\n",
    "\n",
    "### Checkpoint Files\n",
    "Variables以二进制形式被存储起来，大体上是variable名字和张量值的映射。\n",
    "要理解什么variable存储在checkpoint中，你可以使用inspect_checkpoint库，调用`print_tensors_in_checkpoint_file`函数。"
   ]
  },
  {
   "cell_type": "code",
   "execution_count": null,
   "metadata": {},
   "outputs": [],
   "source": [
    "# Create some variables.\n",
    "v1 = tf.Variable(..., name=\"v1\")\n",
    "v2 = tf.Variable(..., name=\"v2\")\n",
    "...\n",
    "# Add an op to initialize the variables.\n",
    "init_op = tf.global_variables_initializer()\n",
    "\n",
    "# Add ops to save and restore all the variables.\n",
    "saver = tf.train.Saver()\n",
    "\n",
    "# Later, launch the model, initialize the variables, do some work, save the\n",
    "# variables to disk.\n",
    "with tf.Session() as sess:\n",
    "  sess.run(init_op)\n",
    "  # Do some work with the model.\n",
    "  ..\n",
    "  # Save the variables to disk.\n",
    "  save_path = saver.save(sess, \"/tmp/model.ckpt\")\n",
    "  print(\"Model saved in file: %s\" % save_path)\n",
    "    \n",
    "    \n",
    "# Later, launch the model, use the saver to restore variables from disk, and\n",
    "# do some work with the model.\n",
    "with tf.Session() as sess:\n",
    "  # Restore variables from disk.\n",
    "  saver.restore(sess, \"/tmp/model.ckpt\")\n",
    "  print(\"Model restored.\")\n",
    "  # Do some work with the model"
   ]
  },
  {
   "cell_type": "markdown",
   "metadata": {},
   "source": [
    "### 选择哪个Variable来Save and Restore\n",
    "如果你不传给`tf.train.Saver()`任何参数，那它将会存储图中所有的variables。\n",
    "有时候你可能训练模型时候给variable其一个名字，例如‘weights’，但是save时候想换成另一个名字，例如‘params’。或者有时候你只想保存一个模型的一部分variables。你可以很简单地指定要存储的名字和variable，传给`tf.train.Saver()`。\n",
    "- 你可以创建多个saver对象\n",
    "- 如果你在一个session开头，只想restore一部分模型的variables，那剩下其他的variables你要记得初始化。"
   ]
  },
  {
   "cell_type": "code",
   "execution_count": null,
   "metadata": {},
   "outputs": [],
   "source": [
    "# Create some variables.\n",
    "v1 = tf.Variable(..., name=\"v1\")\n",
    "v2 = tf.Variable(..., name=\"v2\")\n",
    "...\n",
    "# Add ops to save and restore only 'v2' using the name \"my_v2\"\n",
    "saver = tf.train.Saver({\"my_v2\": v2})\n",
    "# Use the saver object normally after that."
   ]
  },
  {
   "cell_type": "code",
   "execution_count": null,
   "metadata": {
    "collapsed": true
   },
   "outputs": [],
   "source": []
  }
 ],
 "metadata": {
  "kernelspec": {
   "display_name": "Python 2",
   "language": "python",
   "name": "python2"
  },
  "language_info": {
   "codemirror_mode": {
    "name": "ipython",
    "version": 2
   },
   "file_extension": ".py",
   "mimetype": "text/x-python",
   "name": "python",
   "nbconvert_exporter": "python",
   "pygments_lexer": "ipython2",
   "version": "2.7.13"
  }
 },
 "nbformat": 4,
 "nbformat_minor": 2
}
