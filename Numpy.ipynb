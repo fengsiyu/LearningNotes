{
 "cells": [
  {
   "cell_type": "code",
   "execution_count": null,
   "metadata": {
    "collapsed": true
   },
   "outputs": [],
   "source": [
    "#矩阵与向量相减\n",
    "#比较有意思，原矩阵是3x2的，减去np求平均后的向量，两者维度不同也可以相减\n",
    "#这叫做broadcasting！！\n",
    "import numpy as np\n",
    "data = np.arange(6).reshape((3,2))\n",
    "print data\n",
    "c = np.average(data, axis=0) #求列平均值\n",
    "print c\n",
    "print data - c"
   ]
  },
  {
   "cell_type": "code",
   "execution_count": null,
   "metadata": {},
   "outputs": [],
   "source": [
    "#创建矩阵和张量(tensor)\n",
    "a = np.zeros((4,4,4)) #tensor\n",
    "b = np.zeros((4,4)) #matrix\n",
    "print 'a is \\n',a\n",
    "print 'b is \\n',b\n",
    "print a.dtype"
   ]
  },
  {
   "cell_type": "code",
   "execution_count": null,
   "metadata": {},
   "outputs": [],
   "source": [
    "#创建数组(ndarray)，数组是numpy的基石\n",
    "#注意ndarray不是list\n",
    "\n",
    "#a中逗号隔开的为一行，即[1,2],[3,4]，方括号中为逗号隔开的为一列，即a维度是3行2列\n",
    "a = np.array([[1,2],[3,4],[5,6]])\n",
    "print a.shape\n",
    "\n",
    "b = np.arange(24).reshape(2,3,4)\n",
    "print b[0,...]\n",
    "print b[0,:,:]\n",
    "#多个冒号可以用 ... 来代替"
   ]
  },
  {
   "cell_type": "code",
   "execution_count": null,
   "metadata": {},
   "outputs": [],
   "source": [
    "#改变数组维度\n",
    "b = np.arange(24).reshape(4,6)\n",
    "print 'Original b is' ,b\n",
    "#展平b\n",
    "c = b.ravel()\n",
    "print 'After ravel() is ',c\n",
    "\n",
    "#展平b\n",
    "#flatten会请求分配内存来保存结果，ravel只是返回数组的一个视图(view)\n",
    "d = b.flatten()\n",
    "print 'After flatten() is ',d\n",
    "#直接修改b的shape也可以改变矩阵维度\n",
    "b.shape = (6,4)\n",
    "print 'Directly change shape b.shape=(6,4)',b\n",
    "#transpose是矩阵转置操作\n",
    "f = b.transpose()\n",
    "#resize会直接修改所操作的数组\n",
    "\n",
    "print b.resize((2,12))\n",
    "\n"
   ]
  },
  {
   "cell_type": "code",
   "execution_count": null,
   "metadata": {},
   "outputs": [],
   "source": [
    "#数组的组合\n",
    "\n",
    "\n",
    "a = np.arange(9).reshape(3,3)\n",
    "b = 2 * a\n",
    "\n",
    "#水平组合\n",
    "print np.hstack((a,b))\n",
    "print np.concatenate((a,b),axis=1)\n",
    "\n",
    "#垂直组合\n",
    "print np.vstack((a,b))\n",
    "print np.concatenate((a,b),axis=0)\n",
    "\n",
    "print np.dstack((a,b)).shape"
   ]
  },
  {
   "cell_type": "code",
   "execution_count": null,
   "metadata": {},
   "outputs": [],
   "source": [
    "#数组数学array math\n",
    "\n",
    "\n",
    "x = np.array([[1,2],[3,4]],dtype=np.float64)\n",
    "y = np.array([[5,6],[7,8]],dtype=np.float64)\n",
    "\n",
    "v = np.array([9,10])\n",
    "w = np.array([11,12])\n",
    "\n",
    "print (x+y)\n",
    "print np.add(x,y)\n",
    "\n",
    "print (x-y)\n",
    "print np.subtract(x,y)\n",
    "\n",
    "print (x*y)\n",
    "print np.multiply(x,y)\n",
    "\n",
    "print (x/y)\n",
    "print np.divide(x,y)\n",
    "\n",
    "print x.dot(y)\n",
    "\n",
    "print x.dot(v).shape\n",
    "\n",
    "print v.dot(w)\n",
    "print np.dot(v,w)"
   ]
  },
  {
   "cell_type": "code",
   "execution_count": null,
   "metadata": {},
   "outputs": [],
   "source": [
    "#创建数组\n",
    "\n",
    "\n",
    "a = np.arange(0,5,0.1)\n",
    "print type(a)\n",
    "b = np.array([(1.5,2,3),(4,5,6)])\n",
    "print b\n",
    "c = np.array([[1.5,2,3],[4,5,6]])\n",
    "print c\n",
    "print type(b)\n",
    "print b[b>2]\n"
   ]
  },
  {
   "cell_type": "code",
   "execution_count": null,
   "metadata": {
    "collapsed": true
   },
   "outputs": [],
   "source": []
  }
 ],
 "metadata": {
  "anaconda-cloud": {},
  "kernelspec": {
   "display_name": "Python 2",
   "language": "python",
   "name": "python2"
  },
  "language_info": {
   "codemirror_mode": {
    "name": "ipython",
    "version": 2
   },
   "file_extension": ".py",
   "mimetype": "text/x-python",
   "name": "python",
   "nbconvert_exporter": "python",
   "pygments_lexer": "ipython2",
   "version": "2.7.13"
  }
 },
 "nbformat": 4,
 "nbformat_minor": 1
}
