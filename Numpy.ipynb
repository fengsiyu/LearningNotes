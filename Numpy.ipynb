{
 "cells": [
  {
   "cell_type": "code",
   "execution_count": null,
   "metadata": {
    "collapsed": false
   },
   "outputs": [],
   "source": [
    "#矩阵与向量相减\n",
    "#比较有意思，原矩阵是3x2的，减去np求平均后的向量，两者维度不同也可以相减\n",
    "import numpy as np\n",
    "data = np.arange(6).reshape((3,2))\n",
    "print data\n",
    "c = np.average(data, axis=0)\n",
    "print c\n",
    "print data - c"
   ]
  },
  {
   "cell_type": "code",
   "execution_count": null,
   "metadata": {
    "collapsed": true
   },
   "outputs": [],
   "source": [
    "import numpy as np\n",
    "\n",
    "a = np.zeros((4,4,4))\n",
    "b = np.zeros((4,4))\n",
    "print 'a is \\n',a\n",
    "print 'b is \\n',b"
   ]
  },
  {
   "cell_type": "code",
   "execution_count": 14,
   "metadata": {
    "collapsed": false
   },
   "outputs": [
    {
     "name": "stdout",
     "output_type": "stream",
     "text": [
      "(3, 2)\n",
      "[[ 0  1  2  3]\n",
      " [ 4  5  6  7]\n",
      " [ 8  9 10 11]]\n"
     ]
    }
   ],
   "source": [
    "import numpy as np\n",
    "#创建数组，数组是numpy的基石\n",
    "#a中逗号隔开的为一行，即[1,2],[3,4]，方括号中为逗号隔开的为一列，即a维度是3行2列\n",
    "a = np.array([[1,2],[3,4],[5,6]])\n",
    "print a.shape\n",
    "\n",
    "b = np.arange(24).reshape(2,3,4)\n",
    "print b[0,...]\n",
    "print b[0,:,:]\n",
    "#多个冒号可以用 ... 来代替"
   ]
  },
  {
   "cell_type": "code",
   "execution_count": null,
   "metadata": {
    "collapsed": true
   },
   "outputs": [],
   "source": []
  }
 ],
 "metadata": {
  "anaconda-cloud": {},
  "kernelspec": {
   "display_name": "Python [conda root]",
   "language": "python",
   "name": "conda-root-py"
  },
  "language_info": {
   "codemirror_mode": {
    "name": "ipython",
    "version": 2
   },
   "file_extension": ".py",
   "mimetype": "text/x-python",
   "name": "python",
   "nbconvert_exporter": "python",
   "pygments_lexer": "ipython2",
   "version": "2.7.12"
  }
 },
 "nbformat": 4,
 "nbformat_minor": 1
}
